{
 "cells": [
  {
   "cell_type": "code",
   "execution_count": 38,
   "id": "f8d6f565",
   "metadata": {},
   "outputs": [],
   "source": [
    "import torch\n",
    "from torch.utils.data import Dataset\n",
    "from torchvision import datasets\n",
    "from torchvision.transforms import ToTensor\n",
    "import matplotlib.pyplot as plt"
   ]
  },
  {
   "cell_type": "code",
   "execution_count": 39,
   "id": "0baabe3f",
   "metadata": {},
   "outputs": [],
   "source": [
    "import os\n",
    "from torchvision.io import read_video"
   ]
  },
  {
   "cell_type": "code",
   "execution_count": 40,
   "id": "f1ccb8be",
   "metadata": {},
   "outputs": [],
   "source": [
    "import glob"
   ]
  },
  {
   "cell_type": "code",
   "execution_count": 41,
   "id": "8c26a579",
   "metadata": {},
   "outputs": [],
   "source": [
    "root_path = r\"C:\\Users\\Rafael Wersom\\Documents\\CS196\\RWF-2000 Dataset_short\\*\""
   ]
  },
  {
   "cell_type": "code",
   "execution_count": 42,
   "id": "03f83eff",
   "metadata": {},
   "outputs": [],
   "source": [
    "class CustomImageDataset(Dataset):\n",
    "    def __init__(self, train=True):\n",
    "        self.n_frames_per_video = 150\n",
    "        \n",
    "        self.paths = []\n",
    "        folders = glob.glob(root_path)\n",
    "        for folder in folders:\n",
    "            if train == (\"train\" in folder):\n",
    "                sub_folders = glob.glob(folder + \"\\*\")\n",
    "                for sub_folder in sub_folders:\n",
    "                    files = glob.glob(sub_folder + \"\\*.avi\")\n",
    "                    for file in files:\n",
    "                        self.paths.append(file)\n",
    "\n",
    "    def __len__(self):\n",
    "        return len(self.paths)*self.n_frames_per_video\n",
    "\n",
    "    def __getitem__(self, idx):\n",
    "        path_idx = idx // self.n_frames_per_video\n",
    "        frame_idx = idx % self.n_frames_per_video\n",
    "        \n",
    "        path = self.paths[path_idx]\n",
    "        \n",
    "        example = read_video(path)\n",
    "        video_data = example[0]\n",
    "        frame_data = video_data[frame_idx]\n",
    "        \n",
    "        label = not 'NonFight' in path\n",
    "        return frame_data, label"
   ]
  },
  {
   "cell_type": "code",
   "execution_count": 43,
   "id": "9c445af6",
   "metadata": {
    "scrolled": true
   },
   "outputs": [],
   "source": [
    "train_set = CustomImageDataset(train=True)"
   ]
  },
  {
   "cell_type": "code",
   "execution_count": null,
   "id": "69910bbd",
   "metadata": {},
   "outputs": [],
   "source": []
  }
 ],
 "metadata": {
  "kernelspec": {
   "display_name": "Python 3 (ipykernel)",
   "language": "python",
   "name": "python3"
  },
  "language_info": {
   "codemirror_mode": {
    "name": "ipython",
    "version": 3
   },
   "file_extension": ".py",
   "mimetype": "text/x-python",
   "name": "python",
   "nbconvert_exporter": "python",
   "pygments_lexer": "ipython3",
   "version": "3.9.7"
  }
 },
 "nbformat": 4,
 "nbformat_minor": 5
}
