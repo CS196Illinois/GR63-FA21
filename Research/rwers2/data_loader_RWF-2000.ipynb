{
 "cells": [
  {
   "cell_type": "code",
   "execution_count": 38,
   "id": "530ded44",
   "metadata": {},
   "outputs": [],
   "source": [
    "import torch\n",
    "from torch.utils.data import Dataset\n",
    "from torchvision import datasets\n",
    "from torchvision.transforms import ToTensor\n",
    "import matplotlib.pyplot as plt"
   ]
  },
  {
   "cell_type": "code",
   "execution_count": 39,
   "id": "3ada85e2",
   "metadata": {},
   "outputs": [],
   "source": [
    "import os\n",
    "from torchvision.io import read_video"
   ]
  },
  {
   "cell_type": "code",
   "execution_count": 40,
   "id": "85f4953a",
   "metadata": {},
   "outputs": [],
   "source": [
    "import glob"
   ]
  },
  {
   "cell_type": "code",
   "execution_count": 41,
   "id": "1b14f004",
   "metadata": {},
   "outputs": [],
   "source": [
    "root_path = r\"C:\\Users\\Rafael Wersom\\Documents\\CS196\\RWF-2000 Dataset_short\\*\""
   ]
  },
  {
   "cell_type": "code",
   "execution_count": 42,
   "id": "4a51d24c",
   "metadata": {},
   "outputs": [],
   "source": [
    "class CustomImageDataset(Dataset):\n",
    "    def __init__(self, train=True):\n",
    "        self.n_frames_per_video = 150\n",
    "        \n",
    "        self.paths = []\n",
    "        folders = glob.glob(root_path)\n",
    "        for folder in folders:\n",
    "            if train == (\"train\" in folder):\n",
    "                sub_folders = glob.glob(folder + \"\\*\")\n",
    "                for sub_folder in sub_folders:\n",
    "                    files = glob.glob(sub_folder + \"\\*.avi\")\n",
    "                    for file in files:\n",
    "                        self.paths.append(file)\n",
    "\n",
    "    def __len__(self):\n",
    "        return len(self.paths)*self.n_frames_per_video\n",
    "\n",
    "    def __getitem__(self, idx):\n",
    "        path_idx = idx // self.n_frames_per_video\n",
    "        frame_idx = idx % self.n_frames_per_video\n",
    "        \n",
    "        path = self.paths[path_idx]\n",
    "        \n",
    "        example = read_video(path)\n",
    "        video_data = example[0]\n",
    "        frame_data = video_data[frame_idx]\n",
    "        \n",
    "        label = not 'NonFight' in path\n",
    "        return frame_data, label"
   ]
  },
  {
   "cell_type": "code",
   "execution_count": 43,
   "id": "9a8bc66b",
   "metadata": {
    "scrolled": true
   },
   "outputs": [],
   "source": [
    "train_set = CustomImageDataset(train=True)"
   ]
  },
  {
   "cell_type": "code",
   "execution_count": null,
   "id": "d5b74320",
   "metadata": {},
   "outputs": [],
   "source": []
  }
 ],
 "metadata": {
  "kernelspec": {
   "display_name": "Python 3 (ipykernel)",
   "language": "python",
   "name": "python3"
  },
  "language_info": {
   "codemirror_mode": {
    "name": "ipython",
    "version": 3
   },
   "file_extension": ".py",
   "mimetype": "text/x-python",
   "name": "python",
   "nbconvert_exporter": "python",
   "pygments_lexer": "ipython3",
   "version": "3.9.7"
  }
 },
 "nbformat": 4,
 "nbformat_minor": 5
}
