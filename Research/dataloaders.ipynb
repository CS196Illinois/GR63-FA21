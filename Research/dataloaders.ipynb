{
 "cells": [
  {
   "cell_type": "code",
   "execution_count": 2,
   "id": "b7fc3a7f",
   "metadata": {},
   "outputs": [],
   "source": [
    "import torch\n",
    "from torch.utils.data import Dataset\n",
    "from torchvision import datasets\n",
    "from torchvision.transforms import ToTensor, Resize\n",
    "import matplotlib.pyplot as plt\n",
    "import os\n",
    "import torch.nn.functional as F\n",
    "\n",
    "import glob as glob\n",
    "import pandas as pd\n",
    "import torchvision\n",
    "from torchvision.io import read_video as read_video\n",
    "from torchvision.io import write_video as write_video"
   ]
  },
  {
   "cell_type": "code",
   "execution_count": 3,
   "id": "eaa569e9",
   "metadata": {},
   "outputs": [],
   "source": [
    "root_path = \"/Users/andrew/Desktop/cs196/RWF2000_short_version/*\""
   ]
  },
  {
   "cell_type": "code",
   "execution_count": 4,
   "id": "fb0c3499",
   "metadata": {},
   "outputs": [],
   "source": [
    "class CustomImageDataset(Dataset):\n",
    "    def __init__(self, train = True): # accept the 'train' status, but set it to 'True' as default\n",
    "        self.n_frames_per_video = 150 # since all of our videos have 150 frames\n",
    "        \n",
    "        self.paths = [] #we change from 'paths' to 'self.paths' to make it accessible in 'len' and 'getitem'\n",
    "        folder = glob.glob(root_path)\n",
    "        \n",
    "        for folder in folder: #train and val\n",
    "            if train == (\"train\" in folder): #check 1) what data does this instance want (train or test), 2) select only the folders with corresponding label\n",
    "                sub_folders = glob.glob(folder + \"/*\")\n",
    "                for sub_folder in sub_folders:\n",
    "                    files = glob.glob(sub_folder + \"/*.avi\")\n",
    "                    for file in files:\n",
    "                        self.paths.append(file)\n",
    "        self.data = []\n",
    "        for path in self.paths:\n",
    "            self.data.append(read_video(path))\n",
    "    \n",
    "    def __len__(self):\n",
    "        return len(self.paths) * self.n_frames_per_video\n",
    "        # len(self.paths) returns the total amount of .avi videos\n",
    "        # len(self.paths) * self.n_frames_per_video returns the total amount of frames\n",
    "\n",
    "    def __getitem__(self, idx):\n",
    "        ''' This is the code when our data are videos.\n",
    "        path = paths[idx]\n",
    "        example = read_video(path) # convert the video in the path into tensor, and returns it\n",
    "        label = not 'NonFight' in path # label == True == 1 -> 1 means there is a fight\n",
    "        return example[0], label #image, label\n",
    "        '''\n",
    "        \n",
    "        '''\n",
    "        path_idx = idx // self.n_frames_per_video\n",
    "        frame_idx = idx % self.n_frames_per_video\n",
    "        \n",
    "        path = self.paths[path_idx]\n",
    "        \n",
    "        example = read_video(path) # convert the video in the path into tensor, and returns it, \n",
    "                                    # but if we put this here, everytime we want a frame, we need to load the entire video,\n",
    "                                    # so we're going to move it to __init__ function to make it load one video in only once, and keep it in the memory\n",
    "        video_data = example[0]\n",
    "        frame_data = video_data[frame_idx]\n",
    "        '''\n",
    "        \n",
    "        path_idx = idx // self.n_frames_per_video\n",
    "        frame_idx = idx % self.n_frames_per_video\n",
    "        \n",
    "        video_data = self.data[path_idx][0]\n",
    "        frame_data = video_data[frame_idx]\n",
    "        \n",
    "        path = self.paths[path_idx]\n",
    "        label = not 'NonFight' in path # label == True == 1 -> 1 means there is a fight\n",
    "        \n",
    "        return frame_data, label #image, label"
   ]
  },
  {
   "cell_type": "code",
   "execution_count": null,
   "id": "fca71c4d",
   "metadata": {},
   "outputs": [],
   "source": [
    "my_class = CustomImageDataset(train = True) # call the constructor\n",
    "my_class2 = CustomImageDataset() #the same as my_class\n",
    "\n",
    "train_set = my_class # set up the train set and test set\n",
    "test_set = CustomImageDataset(train = False)"
   ]
  },
  {
   "cell_type": "code",
   "execution_count": null,
   "id": "648d6a72",
   "metadata": {},
   "outputs": [],
   "source": [
    "my_class.paths == my_class2.paths"
   ]
  },
  {
   "cell_type": "code",
   "execution_count": null,
   "id": "16edb76c",
   "metadata": {},
   "outputs": [],
   "source": [
    "print(len(my_class))\n",
    "print(len(test_set))"
   ]
  },
  {
   "cell_type": "code",
   "execution_count": null,
   "id": "aed7b745",
   "metadata": {
    "scrolled": true
   },
   "outputs": [],
   "source": [
    "resp = my_class[100] # call 'getitem', and get the 100th frame\n",
    "resp"
   ]
  },
  {
   "cell_type": "code",
   "execution_count": null,
   "id": "63e8e4aa",
   "metadata": {},
   "outputs": [],
   "source": [
    "plt.imshow(resp[0]) # show the 100th frame's frame data"
   ]
  },
  {
   "cell_type": "code",
   "execution_count": null,
   "id": "5c541ad4",
   "metadata": {},
   "outputs": [],
   "source": [
    "resp[1] # get the 100th frame's label"
   ]
  },
  {
   "cell_type": "code",
   "execution_count": null,
   "id": "6e93914c",
   "metadata": {},
   "outputs": [],
   "source": []
  },
  {
   "cell_type": "code",
   "execution_count": 11,
   "id": "252ae503",
   "metadata": {},
   "outputs": [],
   "source": [
    "example = read_video(my_class.paths[0])"
   ]
  },
  {
   "cell_type": "code",
   "execution_count": 12,
   "id": "e601ce9f",
   "metadata": {
    "scrolled": true
   },
   "outputs": [
    {
     "data": {
      "text/plain": [
       "tensor([[[[ 47,  49,  34],\n",
       "          [ 99, 101,  86],\n",
       "          [ 96,  98,  81],\n",
       "          ...,\n",
       "          [250, 252, 235],\n",
       "          [255, 255, 240],\n",
       "          [117, 119, 102]],\n",
       "\n",
       "         [[ 45,  47,  32],\n",
       "          [ 97,  99,  84],\n",
       "          [ 98, 100,  83],\n",
       "          ...,\n",
       "          [250, 252, 235],\n",
       "          [250, 252, 235],\n",
       "          [111, 113,  96]],\n",
       "\n",
       "         [[ 45,  47,  32],\n",
       "          [ 97,  99,  84],\n",
       "          [ 96,  98,  81],\n",
       "          ...,\n",
       "          [250, 252, 235],\n",
       "          [249, 251, 234],\n",
       "          [112, 114,  97]],\n",
       "\n",
       "         ...,\n",
       "\n",
       "         [[ 19,  19,  19],\n",
       "          [ 46,  46,  46],\n",
       "          [ 40,  40,  40],\n",
       "          ...,\n",
       "          [ 62,  62,  62],\n",
       "          [ 64,  64,  64],\n",
       "          [ 37,  37,  37]],\n",
       "\n",
       "         [[ 17,  17,  17],\n",
       "          [ 39,  39,  39],\n",
       "          [ 34,  34,  34],\n",
       "          ...,\n",
       "          [ 67,  67,  67],\n",
       "          [ 68,  68,  68],\n",
       "          [ 39,  39,  39]],\n",
       "\n",
       "         [[ 18,  18,  18],\n",
       "          [ 37,  37,  37],\n",
       "          [ 33,  33,  33],\n",
       "          ...,\n",
       "          [ 69,  69,  69],\n",
       "          [ 69,  69,  69],\n",
       "          [ 38,  38,  38]]],\n",
       "\n",
       "\n",
       "        [[[ 47,  48,  39],\n",
       "          [ 98,  99,  90],\n",
       "          [ 96,  98,  81],\n",
       "          ...,\n",
       "          [251, 251, 235],\n",
       "          [254, 254, 238],\n",
       "          [113, 113,  97]],\n",
       "\n",
       "         [[ 45,  46,  37],\n",
       "          [ 99, 100,  91],\n",
       "          [ 97,  99,  82],\n",
       "          ...,\n",
       "          [252, 252, 236],\n",
       "          [250, 250, 234],\n",
       "          [113, 113,  97]],\n",
       "\n",
       "         [[ 45,  46,  37],\n",
       "          [101, 102,  93],\n",
       "          [ 96,  98,  81],\n",
       "          ...,\n",
       "          [252, 252, 236],\n",
       "          [252, 252, 236],\n",
       "          [116, 116, 100]],\n",
       "\n",
       "         ...,\n",
       "\n",
       "         [[ 23,  23,  23],\n",
       "          [ 46,  46,  46],\n",
       "          [ 41,  41,  41],\n",
       "          ...,\n",
       "          [ 63,  63,  63],\n",
       "          [ 67,  67,  67],\n",
       "          [ 37,  37,  37]],\n",
       "\n",
       "         [[ 18,  18,  18],\n",
       "          [ 36,  36,  36],\n",
       "          [ 32,  32,  32],\n",
       "          ...,\n",
       "          [ 67,  67,  67],\n",
       "          [ 70,  70,  70],\n",
       "          [ 39,  39,  39]],\n",
       "\n",
       "         [[ 18,  18,  18],\n",
       "          [ 33,  33,  33],\n",
       "          [ 30,  30,  30],\n",
       "          ...,\n",
       "          [ 67,  67,  67],\n",
       "          [ 69,  69,  69],\n",
       "          [ 39,  39,  39]]],\n",
       "\n",
       "\n",
       "        [[[ 47,  48,  39],\n",
       "          [ 98,  99,  90],\n",
       "          [ 96,  98,  81],\n",
       "          ...,\n",
       "          [251, 251, 235],\n",
       "          [254, 254, 238],\n",
       "          [113, 113,  97]],\n",
       "\n",
       "         [[ 45,  46,  37],\n",
       "          [ 99, 100,  91],\n",
       "          [ 97,  99,  82],\n",
       "          ...,\n",
       "          [252, 252, 236],\n",
       "          [250, 250, 234],\n",
       "          [113, 113,  97]],\n",
       "\n",
       "         [[ 45,  46,  37],\n",
       "          [101, 102,  93],\n",
       "          [ 96,  98,  81],\n",
       "          ...,\n",
       "          [252, 252, 236],\n",
       "          [252, 252, 236],\n",
       "          [116, 116, 100]],\n",
       "\n",
       "         ...,\n",
       "\n",
       "         [[ 23,  23,  23],\n",
       "          [ 46,  46,  46],\n",
       "          [ 41,  41,  41],\n",
       "          ...,\n",
       "          [ 63,  63,  63],\n",
       "          [ 67,  67,  67],\n",
       "          [ 37,  37,  37]],\n",
       "\n",
       "         [[ 18,  18,  18],\n",
       "          [ 36,  36,  36],\n",
       "          [ 32,  32,  32],\n",
       "          ...,\n",
       "          [ 67,  67,  67],\n",
       "          [ 70,  70,  70],\n",
       "          [ 39,  39,  39]],\n",
       "\n",
       "         [[ 18,  18,  18],\n",
       "          [ 33,  33,  33],\n",
       "          [ 30,  30,  30],\n",
       "          ...,\n",
       "          [ 67,  67,  67],\n",
       "          [ 69,  69,  69],\n",
       "          [ 39,  39,  39]]],\n",
       "\n",
       "\n",
       "        ...,\n",
       "\n",
       "\n",
       "        [[[ 46,  49,  28],\n",
       "          [100, 103,  82],\n",
       "          [ 98, 101,  78],\n",
       "          ...,\n",
       "          [240, 240, 238],\n",
       "          [255, 255, 255],\n",
       "          [114, 114, 114]],\n",
       "\n",
       "         [[ 45,  48,  27],\n",
       "          [103, 106,  85],\n",
       "          [104, 107,  84],\n",
       "          ...,\n",
       "          [240, 240, 238],\n",
       "          [253, 253, 253],\n",
       "          [110, 110, 110]],\n",
       "\n",
       "         [[ 45,  48,  27],\n",
       "          [104, 107,  86],\n",
       "          [105, 108,  85],\n",
       "          ...,\n",
       "          [247, 247, 243],\n",
       "          [255, 255, 253],\n",
       "          [116, 116, 114]],\n",
       "\n",
       "         ...,\n",
       "\n",
       "         [[ 19,  19,  19],\n",
       "          [ 40,  40,  40],\n",
       "          [ 41,  41,  41],\n",
       "          ...,\n",
       "          [ 68,  68,  64],\n",
       "          [ 78,  78,  74],\n",
       "          [ 44,  44,  40]],\n",
       "\n",
       "         [[ 18,  18,  18],\n",
       "          [ 33,  33,  33],\n",
       "          [ 34,  34,  34],\n",
       "          ...,\n",
       "          [ 73,  73,  69],\n",
       "          [ 78,  78,  74],\n",
       "          [ 41,  41,  37]],\n",
       "\n",
       "         [[ 21,  21,  21],\n",
       "          [ 32,  32,  32],\n",
       "          [ 32,  32,  32],\n",
       "          ...,\n",
       "          [ 73,  73,  69],\n",
       "          [ 79,  79,  75],\n",
       "          [ 41,  41,  37]]],\n",
       "\n",
       "\n",
       "        [[[ 46,  49,  28],\n",
       "          [100, 103,  82],\n",
       "          [ 98, 101,  78],\n",
       "          ...,\n",
       "          [240, 240, 238],\n",
       "          [255, 255, 255],\n",
       "          [114, 114, 114]],\n",
       "\n",
       "         [[ 45,  48,  27],\n",
       "          [103, 106,  85],\n",
       "          [104, 107,  84],\n",
       "          ...,\n",
       "          [240, 240, 238],\n",
       "          [253, 253, 253],\n",
       "          [110, 110, 110]],\n",
       "\n",
       "         [[ 45,  48,  27],\n",
       "          [104, 107,  86],\n",
       "          [105, 108,  85],\n",
       "          ...,\n",
       "          [247, 247, 243],\n",
       "          [255, 255, 253],\n",
       "          [116, 116, 114]],\n",
       "\n",
       "         ...,\n",
       "\n",
       "         [[ 19,  19,  19],\n",
       "          [ 40,  40,  40],\n",
       "          [ 41,  41,  41],\n",
       "          ...,\n",
       "          [ 68,  68,  64],\n",
       "          [ 78,  78,  74],\n",
       "          [ 44,  44,  40]],\n",
       "\n",
       "         [[ 18,  18,  18],\n",
       "          [ 33,  33,  33],\n",
       "          [ 34,  34,  34],\n",
       "          ...,\n",
       "          [ 73,  73,  69],\n",
       "          [ 78,  78,  74],\n",
       "          [ 41,  41,  37]],\n",
       "\n",
       "         [[ 21,  21,  21],\n",
       "          [ 32,  32,  32],\n",
       "          [ 32,  32,  32],\n",
       "          ...,\n",
       "          [ 73,  73,  69],\n",
       "          [ 79,  79,  75],\n",
       "          [ 41,  41,  37]]],\n",
       "\n",
       "\n",
       "        [[[ 46,  49,  28],\n",
       "          [100, 103,  82],\n",
       "          [ 98, 101,  78],\n",
       "          ...,\n",
       "          [240, 240, 238],\n",
       "          [255, 255, 255],\n",
       "          [114, 114, 114]],\n",
       "\n",
       "         [[ 45,  48,  27],\n",
       "          [103, 106,  85],\n",
       "          [104, 107,  84],\n",
       "          ...,\n",
       "          [240, 240, 238],\n",
       "          [253, 253, 253],\n",
       "          [110, 110, 110]],\n",
       "\n",
       "         [[ 45,  48,  27],\n",
       "          [104, 107,  86],\n",
       "          [105, 108,  85],\n",
       "          ...,\n",
       "          [247, 247, 243],\n",
       "          [255, 255, 253],\n",
       "          [116, 116, 114]],\n",
       "\n",
       "         ...,\n",
       "\n",
       "         [[ 19,  19,  19],\n",
       "          [ 40,  40,  40],\n",
       "          [ 41,  41,  41],\n",
       "          ...,\n",
       "          [ 68,  68,  64],\n",
       "          [ 78,  78,  74],\n",
       "          [ 44,  44,  40]],\n",
       "\n",
       "         [[ 18,  18,  18],\n",
       "          [ 33,  33,  33],\n",
       "          [ 34,  34,  34],\n",
       "          ...,\n",
       "          [ 73,  73,  69],\n",
       "          [ 78,  78,  74],\n",
       "          [ 41,  41,  37]],\n",
       "\n",
       "         [[ 21,  21,  21],\n",
       "          [ 32,  32,  32],\n",
       "          [ 32,  32,  32],\n",
       "          ...,\n",
       "          [ 73,  73,  69],\n",
       "          [ 79,  79,  75],\n",
       "          [ 41,  41,  37]]]], dtype=torch.uint8)"
      ]
     },
     "execution_count": 12,
     "metadata": {},
     "output_type": "execute_result"
    }
   ],
   "source": [
    "example[0] #the video frames - we know this by looking at the return type of read_video"
   ]
  },
  {
   "cell_type": "code",
   "execution_count": 13,
   "id": "24458a59",
   "metadata": {},
   "outputs": [
    {
     "data": {
      "text/plain": [
       "{'video_fps': 30.0}"
      ]
     },
     "execution_count": 13,
     "metadata": {},
     "output_type": "execute_result"
    }
   ],
   "source": [
    "example[2]"
   ]
  },
  {
   "cell_type": "code",
   "execution_count": 14,
   "id": "eb92f3f2",
   "metadata": {},
   "outputs": [
    {
     "data": {
      "text/plain": [
       "torch.Size([150, 224, 398, 3])"
      ]
     },
     "execution_count": 14,
     "metadata": {},
     "output_type": "execute_result"
    }
   ],
   "source": [
    "example[0].shape #example[0] is the video, output: torch.Size([number of frames, height in pixels, width in pixels, channels - RGB])"
   ]
  },
  {
   "cell_type": "code",
   "execution_count": 15,
   "id": "f7c16272",
   "metadata": {},
   "outputs": [
    {
     "name": "stdout",
     "output_type": "stream",
     "text": [
      "tensor([101, 102,  93], dtype=torch.uint8)\n",
      "tensor([47, 49, 34], dtype=torch.uint8)\n"
     ]
    }
   ],
   "source": [
    "print(example[0][3][2][1]) #viewing the video, at frame with index 3, at pixel of index 2 in height and index 1 in width\n",
    "print(example[0][0][0][0]) #output: tensor([Red, Green, Blue], dtype=torch.uint8)"
   ]
  },
  {
   "cell_type": "code",
   "execution_count": 16,
   "id": "8447933b",
   "metadata": {},
   "outputs": [
    {
     "data": {
      "text/plain": [
       "<matplotlib.image.AxesImage at 0x7f94c85abfd0>"
      ]
     },
     "execution_count": 16,
     "metadata": {},
     "output_type": "execute_result"
    },
    {
     "data": {
      "image/png": "[encoded data removed]",
      "text/plain": [
       "<Figure size 432x288 with 1 Axes>"
      ]
     },
     "metadata": {
      "needs_background": "light"
     },
     "output_type": "display_data"
    }
   ],
   "source": [
    "plt.imshow(example[0][0]) #view the first frame of the video data "
   ]
  },
  {
   "cell_type": "code",
   "execution_count": null,
   "id": "85e084ea",
   "metadata": {},
   "outputs": [],
   "source": []
  }
 ],
 "metadata": {
  "kernelspec": {
   "display_name": "Python 3 (ipykernel)",
   "language": "python",
   "name": "python3"
  },
  "language_info": {
   "codemirror_mode": {
    "name": "ipython",
    "version": 3
   },
   "file_extension": ".py",
   "mimetype": "text/x-python",
   "name": "python",
   "nbconvert_exporter": "python",
   "pygments_lexer": "ipython3",
   "version": "3.9.7"
  }
 },
 "nbformat": 4,
 "nbformat_minor": 5
}
