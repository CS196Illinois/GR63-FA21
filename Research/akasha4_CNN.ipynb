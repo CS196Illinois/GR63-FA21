{
 "cells": [
  {
   "cell_type": "markdown",
   "metadata": {},
   "source": [
    "## **The CNN – Convolutional Neural Network**"
   ]
  },
  {
   "cell_type": "markdown",
   "metadata": {},
   "source": [
    "**Imports**\n",
    "\n",
    "* [Docs](https://pytorch.org/docs/stable/nn.html) for `torch.nn`\n",
    "  * Base class for all neural network modules\n"
   ]
  },
  {
   "cell_type": "markdown",
   "metadata": {},
   "source": [
    "* [Docs](https://pytorch.org/docs/stable/nn.functional.html) for `torch.nn.functional`"
   ]
  },
  {
   "cell_type": "code",
   "execution_count": 3,
   "metadata": {},
   "outputs": [],
   "source": [
    "import torch\n",
    "import torch.nn as nn\n",
    "import torch.nn.functional as F"
   ]
  },
  {
   "cell_type": "markdown",
   "metadata": {},
   "source": [
    "**Building the Neural Network Class `Net`**\n",
    "\n",
    "*Documentation for along with a brief explanation of the methods/modules used below*\n",
    "\n",
    "* [Docs](https://pytorch.org/docs/stable/generated/torch.nn.Conv3d.html?highlight=conv3d#torch.nn.Conv3d) for `nn.Conv3d`\n",
    "  * Helps create a 3D Convolutional Layer that takes in an input tensor with specified number of channels and yields an output tensor with specified number of channels"
   ]
  },
  {
   "cell_type": "markdown",
   "metadata": {},
   "source": [
    "* [Docs](https://pytorch.org/docs/stable/generated/torch.nn.MaxPool3d.html?highlight=maxpool3d#torch.nn.MaxPool3d) for `nn.MaxPool3d`\n",
    "  * In our case, our `MaxPool` \"kernel\" is of 2 x 2 shape, (i.e. it looks at 4 elements at once) and returns the maximum out of them in a 1 x 1 tensor. So, if our \"kernel\" looks at a `2a x 2a` tensor, the output is an `a x a` tensor.\n"
   ]
  },
  {
   "cell_type": "markdown",
   "metadata": {},
   "source": [
    "* [Docs](https://pytorch.org/docs/stable/generated/torch.nn.Sigmoid.html?highlight=sigmoid#torch.nn.Sigmoid) for `nn.Sigmoid`\n",
    "  * Applies the sigmoid function to every element, i.e. this is an element-wise operation."
   ]
  },
  {
   "cell_type": "markdown",
   "metadata": {},
   "source": [
    "* [Docs](https://pytorch.org/docs/stable/generated/torch.nn.Sequential.html?highlight=sequential#torch.nn.Sequential) for `nn.Sequential`"
   ]
  },
  {
   "cell_type": "markdown",
   "metadata": {},
   "source": [
    "* [Docs](https://pytorch.org/docs/stable/generated/torch.flatten.html?highlight=flatten#torch.flatten) for `torch.flatten`\n",
    "  * Helps flatten our n-dimesnional tensor into a tensor of required dimensions. In our case, we use this to flatten our tensor into a 1D tensor."
   ]
  },
  {
   "cell_type": "code",
   "execution_count": 19,
   "metadata": {},
   "outputs": [
    {
     "data": {
      "text/plain": [
       "tensor(0.6369, grad_fn=<MeanBackward0>)"
      ]
     },
     "execution_count": 19,
     "metadata": {},
     "output_type": "execute_result"
    }
   ],
   "source": [
    "class akasha4_Net(nn.Module):\n",
    "    def __init__(self):\n",
    "        # Calling the parent constructor\n",
    "        super().__init__()\n",
    "\n",
    "        # Creating the MaxPool layers\n",
    "\n",
    "        # Notice we're creating two MaxPool layers.\n",
    "        # The first one is a regular MaxPool Layer \n",
    "        # that works on its input without modifying it before performing the maxpool operation on it.\n",
    "        self.pool = nn.MaxPool3d(2)\n",
    "        # The second MaxPool layer, pool_last, adds some padding to the input tensor \n",
    "        # before performing the maxpool operation on it.\n",
    "        # This is done to avoid a Runtime error saying you can't return an output tensor with lesser than 1 channel.\n",
    "        self.pool_last = nn.MaxPool3d(2, padding = (1, 0, 0))\n",
    "\n",
    "        kernel_size = 3\n",
    "        in_padding = 1\n",
    "\n",
    "        # Creating the convolutional layers\n",
    "\n",
    "        self.conv_module1 = conv_module(io_channels = [3, 8], kernel_size = kernel_size, in_padding = in_padding)\n",
    "        self.conv_module2 = conv_module(io_channels = [8, 16], kernel_size = kernel_size, in_padding = in_padding)\n",
    "        self.conv_module3 = conv_module(io_channels = [16, 32], kernel_size = kernel_size, in_padding = in_padding)\n",
    "        self.conv_module4 = conv_module(io_channels = [32, 64], kernel_size = kernel_size, in_padding = in_padding)\n",
    "        self.conv_module5 = conv_module(io_channels = [64, 128], kernel_size = kernel_size, in_padding = in_padding)\n",
    "        \n",
    "    def forward(self, x):\n",
    "        # Begin with: 20 x 224 x 224\n",
    "        x = self.pool(torch.sigmoid(self.conv_module1(x))) # Yields: 10 x 112 x 112\n",
    "        x = self.pool(torch.sigmoid(self.conv_module2(x))) # Yields: 5 x 56 x 56\n",
    "        x = self.pool(torch.sigmoid(self.conv_module3(x))) # Yields: 2 x 28 x 28\n",
    "        x = self.pool(torch.sigmoid(self.conv_module4(x))) # Yields: 1 x 14 x 14\n",
    "        x = self.pool_last(torch.sigmoid(self.conv_module5(x))) # Yields: 1 x 7 x 7\n",
    "        \n",
    "\n",
    "        x = torch.flatten(x, 1)\n",
    "        \n",
    "        x = torch.sigmoid(x)\n",
    "        x = torch.mean(x)\n",
    "        return x\n",
    "    \n",
    "def conv_module(io_channels: list, kernel_size: int, in_padding: int):\n",
    "    \n",
    "    assert len(io_channels) == 2\n",
    "    \n",
    "    return nn.Sequential(\n",
    "        nn.Conv3d(in_channels = io_channels[0], out_channels = io_channels[1], kernel_size = kernel_size, padding = in_padding, bias = True),\n",
    "        nn.BatchNorm3d(io_channels[1]),\n",
    "        nn.Conv3d(in_channels = io_channels[1], out_channels = io_channels[1], kernel_size = kernel_size, padding = in_padding, bias = True),\n",
    "        nn.BatchNorm3d(io_channels[1]),\n",
    "        nn.Conv3d(in_channels = io_channels[1], out_channels = io_channels[1], kernel_size = kernel_size, padding = in_padding, bias = True),\n",
    "        nn.BatchNorm3d(io_channels[1]),\n",
    "        nn.Conv3d(in_channels = io_channels[1], out_channels = io_channels[1], kernel_size = kernel_size, padding = in_padding, bias = True),\n",
    "        nn.BatchNorm3d(io_channels[1]),\n",
    "        nn.Conv3d(in_channels = io_channels[1], out_channels = io_channels[1], kernel_size = kernel_size, padding = in_padding, bias = True)\n",
    "    )\n",
    "\n",
    "\n",
    "x = torch.rand(1, 3, 20, 224, 224)\n",
    "model = akasha4_Net()\n",
    "model(x)"
   ]
  }
 ],
 "metadata": {
  "interpreter": {
   "hash": "f865d99b17abfd4696137503790bee89028c085e9c9a10d9d29945a875b088d6"
  },
  "kernelspec": {
   "display_name": "Python 3.8.8 64-bit ('base': conda)",
   "name": "python3"
  },
  "language_info": {
   "codemirror_mode": {
    "name": "ipython",
    "version": 3
   },
   "file_extension": ".py",
   "mimetype": "text/x-python",
   "name": "python",
   "nbconvert_exporter": "python",
   "pygments_lexer": "ipython3",
   "version": "3.8.8"
  },
  "orig_nbformat": 4
 },
 "nbformat": 4,
 "nbformat_minor": 2
}
