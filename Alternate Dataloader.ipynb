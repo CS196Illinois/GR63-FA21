{
 "cells": [
  {
   "cell_type": "code",
   "execution_count": 7,
   "id": "a7aa73f7",
   "metadata": {},
   "outputs": [],
   "source": [
    "import torch\n",
    "from torch.utils.data import Dataset\n",
    "from torchvision import datasets\n",
    "from torchvision.transforms import ToTensor\n",
    "import matplotlib.pyplot as plt\n",
    "import os\n",
    "from torchvision.io import read_video\n",
    "import glob"
   ]
  },
  {
   "cell_type": "code",
   "execution_count": 8,
   "id": "977c50aa",
   "metadata": {},
   "outputs": [],
   "source": [
    "root_path = r\"C:\\RWF2000\\*\""
   ]
  },
  {
   "cell_type": "code",
   "execution_count": 9,
   "id": "3ea86621",
   "metadata": {},
   "outputs": [],
   "source": [
    "class CustomImageDataset(Dataset): \n",
    "    \n",
    "    def __init__(self, root_path, to_be_trained):\n",
    "\n",
    "        self.num_fpv = 150\n",
    "        self.paths = []\n",
    "\n",
    "        folders = glob.glob(root_path) \n",
    "\n",
    "        for sub_folders in folders:\n",
    "            labels = glob.glob(sub_folders)\n",
    "            if ((to_be_trained == True) and (\"train\" in label)):\n",
    "                for label in labels:\n",
    "                    videos = glob.glob(label + \"/.avi\")\n",
    "                    for path_to_video in videos:\n",
    "                        self.paths.append(path_to_video)\n",
    "\n",
    "    def __len__(self):\n",
    "        return len(self.paths) * self.num_fpv\n",
    "    \n",
    "    def __getItem__(self, frame_index):\n",
    "        video_index = frame_index // self.num_fpv\n",
    "        frame_index_inside_video = frame_index % self.num_fpv\n",
    "\n",
    "        video_path = self.paths[video_index]\n",
    "        video_tensor = read_video(video_path)\n",
    "        video_tensor_frames_parameter = video_tensor[0]\n",
    "        frame_image = video_tensor_frames_parameter[frame_index_inside_video]\n",
    "\n",
    "        label = not (\"NonFight\" in video_path) \n",
    "\n",
    "        return frame_image, label"
   ]
  },
  {
   "cell_type": "code",
   "execution_count": null,
   "id": "f65f2dd1",
   "metadata": {},
   "outputs": [],
   "source": []
  }
 ],
 "metadata": {
  "kernelspec": {
   "display_name": "Python 3",
   "language": "python",
   "name": "python3"
  },
  "language_info": {
   "codemirror_mode": {
    "name": "ipython",
    "version": 3
   },
   "file_extension": ".py",
   "mimetype": "text/x-python",
   "name": "python",
   "nbconvert_exporter": "python",
   "pygments_lexer": "ipython3",
   "version": "3.8.8"
  }
 },
 "nbformat": 4,
 "nbformat_minor": 5
}
